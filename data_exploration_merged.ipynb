{
 "cells": [
  {
   "cell_type": "code",
   "execution_count": null,
   "metadata": {},
   "outputs": [],
   "source": [
    "import pandas as pd\n",
    "import json\n",
    "from sodapy import Socrata\n",
    "import os\n",
    "import geopandas as gpd\n",
    "import datetime as dt\n",
    "import matplotlib.pyplot as plt\n",
    "from config2 import app_token\n",
    "from geojson import Feature, FeatureCollection, Point"
   ]
  },
  {
   "cell_type": "code",
   "execution_count": null,
   "metadata": {},
   "outputs": [],
   "source": [
    "# ## PANDAS TO GEOJSON FUNCTION\n",
    "# def df_to_geojson(df, properties, lat='latitude', lon='longitude'):\n",
    "#     geojson = {'type':'FeatureCollection', 'features':[]}\n",
    "#     for _, row in df.iterrows():\n",
    "#         feature = {'type':'Feature',\n",
    "#                    'properties':{},\n",
    "#                    'geometry':{'type':'Point',\n",
    "#                                'coordinates':[]}}\n",
    "#         feature['geometry']['coordinates'] = [row[lon],row[lat]]\n",
    "#         for prop in properties:\n",
    "#             feature['properties'][prop] = row[prop]\n",
    "#         geojson['features'].append(feature)\n",
    "#     return geojson"
   ]
  },
  {
   "cell_type": "code",
   "execution_count": null,
   "metadata": {},
   "outputs": [],
   "source": [
    "# Unauthenticated client only works with public data sets. Note 'None'\n",
    "# in place of application token, and no username or password:\n",
    "# client = Socrata(\"data.cityofchicago.org\", none)\n",
    "\n",
    "# Example authenticated client (needed for non-public datasets):\n",
    "# client = Socrata(\"data.cityofchicago.org\",\n",
    "#                  \"du5ugsgl0w1g4ql37x78pjbc5\",\n",
    "#                  username= \"dr.harmony\",\n",
    "#                  password= \"F3ar&Loathing\")\n",
    "\n",
    "# # Example authenticated client (needed for non-public datasets):\n",
    "client = Socrata(\"data.cityofchicago.org\",\n",
    "                 app_token)\n",
    "#                  username= username,\n",
    "#                  password= password)\n",
    "\n",
    "# First 2000 results, returned as JSON from API / converted to Python list of\n",
    "# dictionaries by sodapy.\n",
    "results = client.get(\"85ca-t3if\", limit = 500000)\n",
    "\n",
    "# Convert to pandas DataFrame\n",
    "results_df = pd.DataFrame.from_records(results)"
   ]
  },
  {
   "cell_type": "code",
   "execution_count": null,
   "metadata": {},
   "outputs": [],
   "source": [
    "results_df"
   ]
  },
  {
   "cell_type": "code",
   "execution_count": null,
   "metadata": {},
   "outputs": [],
   "source": [
    "results_df.columns"
   ]
  },
  {
   "cell_type": "code",
   "execution_count": null,
   "metadata": {},
   "outputs": [],
   "source": [
    "crashes = results_df.drop(columns=['crash_record_id', 'location', 'injuries_unknown', 'injuries_incapacitating', 'injuries_no_indication', 'injuries_reported_not_evident', 'injuries_non_incapacitating', 'private_property_i', 'crash_date_est_i', 'statements_taken_i', 'photos_taken_i', 'work_zone_i', 'work_zone_type', 'workers_present_i', 'dooring_i'])\n",
    "crashes"
   ]
  },
  {
   "cell_type": "code",
   "execution_count": null,
   "metadata": {},
   "outputs": [],
   "source": [
    "crashes.rename(columns={\"beat_of_occurrence\": \"Beat\"}, inplace = True)"
   ]
  },
  {
   "cell_type": "code",
   "execution_count": null,
   "metadata": {},
   "outputs": [],
   "source": [
    "crashes.dtypes"
   ]
  },
  {
   "cell_type": "code",
   "execution_count": null,
   "metadata": {},
   "outputs": [],
   "source": [
    "crashes[[\"Beat\"]] = crashes[[\"Beat\"]].apply(pd.to_numeric)\n",
    "crashes.dtypes"
   ]
  },
  {
   "cell_type": "code",
   "execution_count": null,
   "metadata": {},
   "outputs": [],
   "source": [
    "# Reference the file where the CSV is located\n",
    "neighborhood_path = \"static/data/ChicagoAreasBeatDistricts.csv\"\n",
    "\n",
    "# Import the data into a Pandas DataFrame\n",
    "neighborhoods_df = pd.read_csv(neighborhood_path)\n",
    "neighborhoods_df.dtypes"
   ]
  },
  {
   "cell_type": "code",
   "execution_count": null,
   "metadata": {},
   "outputs": [],
   "source": [
    "crash_neighborhood_merge = pd.merge(left=crashes, right=neighborhoods_df, how='right', on=['Beat'])\n",
    "# crash_neighborhood_merge = pd.concat([crashes, neighborhoods_df], axis=1)\n",
    "crash_neighborhood_merge_clean = crash_neighborhood_merge[['crash_date', 'posted_speed_limit', 'traffic_control_device',\n",
    "       'device_condition', 'weather_condition', 'lighting_condition',\n",
    "       'first_crash_type', 'trafficway_type', 'alignment', 'injuries_fatal',\n",
    "       'roadway_surface_cond', 'road_defect', 'report_type', 'crash_type',\n",
    "       'intersection_related_i', 'damage', 'date_police_notified',\n",
    "       'prim_contributory_cause', 'sec_contributory_cause', 'street_no',\n",
    "       'street_direction', 'street_name', 'District', 'Community Area', 'Beat', 'num_units',\n",
    "       'most_severe_injury', 'injuries_total', 'crash_hour',\n",
    "       'crash_day_of_week', 'crash_month', 'latitude', 'longitude',\n",
    "       'hit_and_run_i', 'rd_no', 'lane_cnt']]\n",
    "crash_neighborhood_merge_clean"
   ]
  },
  {
   "cell_type": "code",
   "execution_count": null,
   "metadata": {},
   "outputs": [],
   "source": [
    "crash_neighborhood_merge_clean.columns"
   ]
  },
  {
   "cell_type": "code",
   "execution_count": null,
   "metadata": {},
   "outputs": [],
   "source": [
    "crash_neighborhood_merge_clean"
   ]
  },
  {
   "cell_type": "code",
   "execution_count": null,
   "metadata": {},
   "outputs": [],
   "source": [
    "## DROPPING COLUMNS\n",
    "crashes_in_areas = crash_neighborhood_merge_clean.drop(columns=['posted_speed_limit', 'traffic_control_device', 'crash_type', 'device_condition', 'weather_condition', 'lighting_condition', 'trafficway_type', 'alignment',\n",
    "'roadway_surface_cond', 'road_defect', 'report_type','intersection_related_i', 'damage', 'date_police_notified',\n",
    "'prim_contributory_cause', 'sec_contributory_cause', 'street_no',\n",
    "'street_direction', 'street_name', 'District', 'num_units', 'most_severe_injury', 'crash_hour',\n",
    "'crash_day_of_week', 'crash_month', 'rd_no', 'lane_cnt', 'hit_and_run_i'])"
   ]
  },
  {
   "cell_type": "code",
   "execution_count": null,
   "metadata": {},
   "outputs": [],
   "source": [
    "crashes_in_areas"
   ]
  },
  {
   "cell_type": "code",
   "execution_count": null,
   "metadata": {},
   "outputs": [],
   "source": [
    "## DROP any row with NaN values ** THIS REMOVES SOME CRASHES BUT KEEPS HIGH QUALITY RECORDED **\n",
    "df = crashes_in_areas.dropna()\n",
    "df"
   ]
  },
  {
   "cell_type": "code",
   "execution_count": null,
   "metadata": {},
   "outputs": [],
   "source": [
    "## rename Community Area and Beat columns names\n",
    "df = df.rename(columns = {\"Community Area\": \"communityArea\", \"Beat\": \"beat\"})\n",
    "df"
   ]
  },
  {
   "cell_type": "code",
   "execution_count": null,
   "metadata": {},
   "outputs": [],
   "source": [
    "df.dtypes"
   ]
  },
  {
   "cell_type": "code",
   "execution_count": null,
   "metadata": {},
   "outputs": [],
   "source": [
    "df['crash_date'] = pd.to_datetime(df['crash_date'])"
   ]
  },
  {
   "cell_type": "code",
   "execution_count": null,
   "metadata": {},
   "outputs": [],
   "source": [
    "df2019 = df[df['crash_date'].dt.year == 2019]\n",
    "df2019"
   ]
  },
  {
   "cell_type": "code",
   "execution_count": null,
   "metadata": {},
   "outputs": [],
   "source": [
    "## READ Chicago Area geoJSON file for merge\n",
    "chicagoAreas_df = gpd.read_file(\"static/data/chicago-community-areas.geojson\")"
   ]
  },
  {
   "cell_type": "code",
   "execution_count": null,
   "metadata": {
    "scrolled": true
   },
   "outputs": [],
   "source": [
    "chicagoAreas_df\n",
    "print(chicagoAreas_df)"
   ]
  },
  {
   "cell_type": "code",
   "execution_count": null,
   "metadata": {
    "scrolled": true
   },
   "outputs": [],
   "source": [
    "## REMOVE ** \"area\", \"perimeter\", \"area_num_1\", \"comarea_id\", \"comarea\"   ** from chicagoAreas_df\n",
    "chicagoAreas_df = chicagoAreas_df.drop(columns=[\"area\", \"perimeter\", \"area_num_1\", \"comarea_id\", \"comarea\"])\n",
    "chicagoAreas_df = chicagoAreas_df.rename(columns = {\"area_numbe\": \"communityArea\"})\n",
    "chicagoAreas_df.dtypes"
   ]
  },
  {
   "cell_type": "code",
   "execution_count": null,
   "metadata": {},
   "outputs": [],
   "source": [
    "chicagoAreas_df[[\"communityArea\"]] = chicagoAreas_df[[\"communityArea\"]].apply(pd.to_numeric)\n",
    "chicagoAreas_df.dtypes"
   ]
  },
  {
   "cell_type": "code",
   "execution_count": null,
   "metadata": {},
   "outputs": [],
   "source": [
    "## MERGE THE TWO FILES TO CREATE MASTER 2019 GEOJSON\n",
    "chicagoCrashMerge = pd.merge(left=df2019, right=chicagoAreas_df, how='right', on=['communityArea'])\n",
    "chicagoCrashMerge"
   ]
  },
  {
   "cell_type": "code",
   "execution_count": null,
   "metadata": {},
   "outputs": [],
   "source": [
    "chicagoCrashMerge['crashes_per_area'] = chicagoCrashMerge.groupby(['communityArea'])['community'].transform('count')\n",
    "chicagoCrashMerge"
   ]
  },
  {
   "cell_type": "code",
   "execution_count": null,
   "metadata": {},
   "outputs": [],
   "source": [
    "# CREATING GEOJSON FILE FOR EXPORT\n",
    "\n",
    "## USING THE GEOPANDAS\n",
    "# gdf_crashes2019 = geopandas.GeoDataFrame(\n",
    "#     df, geometry=geopandas.points_from_xy(df.longitude, df.latitude))\n",
    "gdf_crashes2019 = gpd.GeoDataFrame(chicagoCrashMerge)"
   ]
  },
  {
   "cell_type": "code",
   "execution_count": null,
   "metadata": {},
   "outputs": [],
   "source": [
    "print(gdf_crashes2019.head())"
   ]
  },
  {
   "cell_type": "code",
   "execution_count": null,
   "metadata": {},
   "outputs": [],
   "source": [
    "ax = gdf_crashes2019.dropna().plot(column='crashes_per_area', cmap =    \n",
    "                                'YlGnBu', figsize=(15,9),   \n",
    "                                 scheme='quantiles', k=3, legend =  \n",
    "                                  True);\n",
    "#add title to the map\n",
    "ax.set_title('Number of Crashes Per Chicago Area', fontdict= \n",
    "            {'fontsize':25})\n",
    "#remove axes\n",
    "ax.set_axis_off()\n",
    "#move legend to an empty space\n",
    "ax.get_legend().set_bbox_to_anchor((.12,.12))\n",
    "ax.get_figure()"
   ]
  },
  {
   "cell_type": "code",
   "execution_count": null,
   "metadata": {},
   "outputs": [],
   "source": []
  },
  {
   "cell_type": "code",
   "execution_count": null,
   "metadata": {},
   "outputs": [],
   "source": [
    "# gdf_crashes2019.to_file(\"crashes_in_2019.geojson\", driver='GeoJSON')"
   ]
  },
  {
   "cell_type": "code",
   "execution_count": null,
   "metadata": {},
   "outputs": [],
   "source": []
  }
 ],
 "metadata": {
  "kernelspec": {
   "display_name": "Python 3",
   "language": "python",
   "name": "python3"
  },
  "language_info": {
   "codemirror_mode": {
    "name": "ipython",
    "version": 3
   },
   "file_extension": ".py",
   "mimetype": "text/x-python",
   "name": "python",
   "nbconvert_exporter": "python",
   "pygments_lexer": "ipython3",
   "version": "3.7.6"
  }
 },
 "nbformat": 4,
 "nbformat_minor": 4
}
