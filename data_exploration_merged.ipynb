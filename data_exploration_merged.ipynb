{
 "cells": [
  {
   "cell_type": "code",
   "execution_count": null,
   "metadata": {},
   "outputs": [],
   "source": [
    "# pip install pandas\n",
    "# pip install sodapy\n",
    "\n",
    "import pandas as pd\n",
    "from sodapy import Socrata\n",
    "import os\n",
    "from config2 import app_token\n",
    "\n",
    "# Unauthenticated client only works with public data sets. Note 'None'\n",
    "# in place of application token, and no username or password:\n",
    "# client = Socrata(\"data.cityofchicago.org\", none)\n",
    "\n",
    "# Example authenticated client (needed for non-public datasets):\n",
    "# client = Socrata(\"data.cityofchicago.org\",\n",
    "#                  \"du5ugsgl0w1g4ql37x78pjbc5\",\n",
    "#                  username= \"dr.harmony\",\n",
    "#                  password= \"F3ar&Loathing\")\n",
    "\n",
    "# # Example authenticated client (needed for non-public datasets):\n",
    "client = Socrata(\"data.cityofchicago.org\",\n",
    "                 app_token)\n",
    "#                  username= username,\n",
    "#                  password= password)\n",
    "\n",
    "# First 2000 results, returned as JSON from API / converted to Python list of\n",
    "# dictionaries by sodapy.\n",
    "results = client.get(\"85ca-t3if\", limit = 500000)\n",
    "\n",
    "# Convert to pandas DataFrame\n",
    "results_df = pd.DataFrame.from_records(results)"
   ]
  },
  {
   "cell_type": "code",
   "execution_count": null,
   "metadata": {},
   "outputs": [],
   "source": [
    "results_df"
   ]
  },
  {
   "cell_type": "code",
   "execution_count": null,
   "metadata": {},
   "outputs": [],
   "source": [
    "results_df.columns"
   ]
  },
  {
   "cell_type": "code",
   "execution_count": null,
   "metadata": {},
   "outputs": [],
   "source": [
    "crashes = results_df.drop(columns=['crash_record_id', 'location', 'injuries_unknown', 'injuries_incapacitating', 'injuries_fatal', 'injuries_no_indication', 'injuries_reported_not_evident', 'injuries_non_incapacitating', 'private_property_i', 'crash_date_est_i', 'statements_taken_i', 'photos_taken_i', 'work_zone_i', 'work_zone_type', 'workers_present_i', 'dooring_i'])\n",
    "crashes"
   ]
  },
  {
   "cell_type": "code",
   "execution_count": null,
   "metadata": {},
   "outputs": [],
   "source": [
    "crashes.rename(columns={\"beat_of_occurrence\": \"Beat\"}, inplace = True)"
   ]
  },
  {
   "cell_type": "code",
   "execution_count": null,
   "metadata": {},
   "outputs": [],
   "source": [
    "crashes.dtypes"
   ]
  },
  {
   "cell_type": "code",
   "execution_count": null,
   "metadata": {},
   "outputs": [],
   "source": [
    "crashes[[\"Beat\"]] = crashes[[\"Beat\"]].apply(pd.to_numeric)\n",
    "crashes.dtypes"
   ]
  },
  {
   "cell_type": "code",
   "execution_count": null,
   "metadata": {},
   "outputs": [],
   "source": [
    "# Reference the file where the CSV is located\n",
    "neighborhood_path = \"ChicagoAreasBeatDistricts.csv\"\n",
    "\n",
    "# Import the data into a Pandas DataFrame\n",
    "neighborhoods_df = pd.read_csv(neighborhood_path)\n",
    "neighborhoods_df.dtypes"
   ]
  },
  {
   "cell_type": "code",
   "execution_count": null,
   "metadata": {},
   "outputs": [],
   "source": [
    "crash_neighborhood_merge = pd.merge(left=crashes, right=neighborhoods_df, how='right', on=['Beat'])\n",
    "# crash_neighborhood_merge = pd.concat([crashes, neighborhoods_df], axis=1)\n",
    "crash_neighborhood_merge_clean = crash_neighborhood_merge[['crash_date', 'posted_speed_limit', 'traffic_control_device',\n",
    "       'device_condition', 'weather_condition', 'lighting_condition',\n",
    "       'first_crash_type', 'trafficway_type', 'alignment',\n",
    "       'roadway_surface_cond', 'road_defect', 'report_type', 'crash_type',\n",
    "       'intersection_related_i', 'damage', 'date_police_notified',\n",
    "       'prim_contributory_cause', 'sec_contributory_cause', 'street_no',\n",
    "       'street_direction', 'street_name', 'District', 'Community Area', 'Beat', 'num_units',\n",
    "       'most_severe_injury', 'injuries_total', 'crash_hour',\n",
    "       'crash_day_of_week', 'crash_month', 'latitude', 'longitude',\n",
    "       'hit_and_run_i', 'rd_no', 'lane_cnt']]\n",
    "crash_neighborhood_merge_clean"
   ]
  },
  {
   "cell_type": "code",
   "execution_count": null,
   "metadata": {},
   "outputs": [],
   "source": [
    "crash_neighborhood_merge_clean.columns"
   ]
  },
  {
   "cell_type": "code",
   "execution_count": null,
   "metadata": {},
   "outputs": [],
   "source": [
    "# finalhtml = crash_neighborhood_merge_clean.to_html('crashes.html')"
   ]
  }
 ],
 "metadata": {
  "kernelspec": {
   "display_name": "Python 3",
   "language": "python",
   "name": "python3"
  },
  "language_info": {
   "codemirror_mode": {
    "name": "ipython",
    "version": 3
   },
   "file_extension": ".py",
   "mimetype": "text/x-python",
   "name": "python",
   "nbconvert_exporter": "python",
   "pygments_lexer": "ipython3",
   "version": "3.7.6"
  }
 },
 "nbformat": 4,
 "nbformat_minor": 4
}
